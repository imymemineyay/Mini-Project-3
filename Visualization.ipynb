{
  "cells": [
    {
      "cell_type": "markdown",
      "metadata": {
        "id": "view-in-github",
        "colab_type": "text"
      },
      "source": [
        "<a href=\"https://colab.research.google.com/github/imymemineyay/Mini-Project-3/blob/main/Visualization.ipynb\" target=\"_parent\"><img src=\"https://colab.research.google.com/assets/colab-badge.svg\" alt=\"Open In Colab\"/></a>"
      ]
    },
    {
      "cell_type": "markdown",
      "id": "e3cfa5c9",
      "metadata": {
        "id": "e3cfa5c9"
      },
      "source": [
        "# 라이브러리 로딩"
      ]
    },
    {
      "cell_type": "code",
      "execution_count": null,
      "id": "a2d09060",
      "metadata": {
        "ExecuteTime": {
          "end_time": "2022-11-23T00:43:43.295713Z",
          "start_time": "2022-11-23T00:43:36.767019Z"
        },
        "id": "a2d09060"
      },
      "outputs": [],
      "source": [
        "import numpy as np # Numpy\n",
        "import pandas as pd # Pandas\n",
        "import matplotlib as mpl #Matplotlib 세팅용\n",
        "import matplotlib.pyplot as plt # 시각화 도구\n",
        "import seaborn as sns # 시각화 도구\n",
        "from sklearn.model_selection import train_test_split # 데이터셋 분리\n",
        "from sklearn.model_selection import KFold # KFold 교차검증\n",
        "from sklearn.cluster import KMeans # 클러스터링\n",
        "from sklearn.metrics import silhouette_score # 실루엣 점수\n",
        "import xgboost as xgb # XGBoost\n",
        "from sklearn.model_selection import GridSearchCV # 그리드 서치\n",
        "from sklearn.metrics import accuracy_score, precision_score # 평가 지표\n",
        "from sklearn.metrics import recall_score, confusion_matrix, roc_auc_score, f1_score # 평가 지표\n",
        "from imblearn.combine import SMOTEENN, SMOTETomek # 복합샘플링\n",
        "from hyperopt import hp, fmin, tpe, Trials # HyperOPT\n",
        "\n",
        "import warnings # 경고문 제거용\n",
        "\n",
        "\n",
        "%matplotlib inline\n",
        "%config Inlinebackend.figure_format = 'retina'\n",
        "\n",
        "# 한글 폰트 설정\n",
        "mpl.rc('font', family='D2Coding')\n",
        "# 유니코드에서 음수 부호 설정\n",
        "mpl.rc('axes', unicode_minus = False)\n",
        "\n",
        "warnings.filterwarnings('ignore')\n",
        "sns.set(font=\"D2Coding\", rc={\"axes.unicode_minus\":False}, style='darkgrid')\n",
        "plt.rc('figure', figsize=(10,8))"
      ]
    },
    {
      "cell_type": "markdown",
      "id": "5ac23d52",
      "metadata": {
        "id": "5ac23d52"
      },
      "source": [
        "# 데이터 불러오기"
      ]
    },
    {
      "cell_type": "code",
      "execution_count": null,
      "id": "328c04aa",
      "metadata": {
        "ExecuteTime": {
          "end_time": "2022-11-23T00:43:45.734551Z",
          "start_time": "2022-11-23T00:43:43.297701Z"
        },
        "id": "328c04aa"
      },
      "outputs": [],
      "source": [
        "data = pd.read_excel('train_test_na_filled.xlsx', sheet_name='Train')"
      ]
    },
    {
      "cell_type": "markdown",
      "id": "93f3171d",
      "metadata": {
        "id": "93f3171d"
      },
      "source": [
        "# 시각화를 위한 전처리"
      ]
    },
    {
      "cell_type": "code",
      "execution_count": null,
      "id": "6e807f6b",
      "metadata": {
        "ExecuteTime": {
          "end_time": "2022-11-23T00:43:45.749392Z",
          "start_time": "2022-11-23T00:43:45.735356Z"
        },
        "id": "6e807f6b"
      },
      "outputs": [],
      "source": [
        "# 필요없는 features 제거\n",
        "data.drop(['PassengerId', 'Cabin', 'Combi', 'Name',], axis=1, inplace=True)"
      ]
    },
    {
      "cell_type": "code",
      "execution_count": null,
      "id": "9d949941",
      "metadata": {
        "ExecuteTime": {
          "end_time": "2022-11-23T00:43:45.764428Z",
          "start_time": "2022-11-23T00:43:45.751313Z"
        },
        "id": "9d949941"
      },
      "outputs": [],
      "source": [
        "# 결측값들 제거(Cabin)\n",
        "data.dropna(axis=0, inplace=True)"
      ]
    },
    {
      "cell_type": "markdown",
      "id": "5e759f61",
      "metadata": {
        "id": "5e759f61"
      },
      "source": [
        "# 데이터 탐색"
      ]
    },
    {
      "cell_type": "code",
      "execution_count": null,
      "id": "48bb9702",
      "metadata": {
        "ExecuteTime": {
          "end_time": "2022-11-23T00:43:45.794221Z",
          "start_time": "2022-11-23T00:43:45.765276Z"
        },
        "id": "48bb9702",
        "outputId": "a61bbc44-4a10-4d16-c41b-5209ffbe5a0b"
      },
      "outputs": [
        {
          "name": "stdout",
          "output_type": "stream",
          "text": [
            "<class 'pandas.core.frame.DataFrame'>\n",
            "Int64Index: 8590 entries, 0 to 8692\n",
            "Data columns (total 14 columns):\n",
            " #   Column        Non-Null Count  Dtype  \n",
            "---  ------        --------------  -----  \n",
            " 0   HomePlanet    8590 non-null   object \n",
            " 1   CryoSleep     8590 non-null   bool   \n",
            " 2   Cabin1        8590 non-null   object \n",
            " 3   Cabin2        8590 non-null   float64\n",
            " 4   Cabin3        8590 non-null   object \n",
            " 5   Destination   8590 non-null   object \n",
            " 6   Age           8590 non-null   int64  \n",
            " 7   VIP           8590 non-null   bool   \n",
            " 8   RoomService   8590 non-null   int64  \n",
            " 9   FoodCourt     8590 non-null   int64  \n",
            " 10  ShoppingMall  8590 non-null   int64  \n",
            " 11  Spa           8590 non-null   int64  \n",
            " 12  VRDeck        8590 non-null   int64  \n",
            " 13  Transported   8590 non-null   bool   \n",
            "dtypes: bool(3), float64(1), int64(6), object(4)\n",
            "memory usage: 830.5+ KB\n"
          ]
        }
      ],
      "source": [
        "data.info()"
      ]
    },
    {
      "cell_type": "code",
      "execution_count": null,
      "id": "74921d37",
      "metadata": {
        "ExecuteTime": {
          "end_time": "2022-11-23T00:43:45.809158Z",
          "start_time": "2022-11-23T00:43:45.796198Z"
        },
        "id": "74921d37",
        "outputId": "f138d63b-d766-49a7-c39b-00b6b2502b28"
      },
      "outputs": [
        {
          "data": {
            "text/plain": [
              "HomePlanet      0\n",
              "CryoSleep       0\n",
              "Cabin1          0\n",
              "Cabin2          0\n",
              "Cabin3          0\n",
              "Destination     0\n",
              "Age             0\n",
              "VIP             0\n",
              "RoomService     0\n",
              "FoodCourt       0\n",
              "ShoppingMall    0\n",
              "Spa             0\n",
              "VRDeck          0\n",
              "Transported     0\n",
              "dtype: int64"
            ]
          },
          "execution_count": 6,
          "metadata": {},
          "output_type": "execute_result"
        }
      ],
      "source": [
        "data.isna().sum()"
      ]
    },
    {
      "cell_type": "code",
      "execution_count": null,
      "id": "608a8fd9",
      "metadata": {
        "ExecuteTime": {
          "end_time": "2022-11-23T00:43:45.824120Z",
          "start_time": "2022-11-23T00:43:45.811157Z"
        },
        "id": "608a8fd9"
      },
      "outputs": [],
      "source": [
        "def get_category(age):\n",
        "    cat = ''\n",
        "    if age <= -1: cat = 'Unknown'\n",
        "    elif age <= 5: cat = 'Baby'\n",
        "    elif age <= 12: cat = 'Child'\n",
        "    elif age <= 18: cat = 'Teenager'\n",
        "    elif age <= 25: cat = 'Student'\n",
        "    elif age <= 35: cat = 'Young Adult'\n",
        "    elif age <= 60: cat = 'Adult'\n",
        "    else : cat = 'Elderly'\n",
        "    \n",
        "    return cat"
      ]
    },
    {
      "cell_type": "code",
      "execution_count": null,
      "id": "c2b85331",
      "metadata": {
        "ExecuteTime": {
          "end_time": "2022-11-23T00:43:46.557158Z",
          "start_time": "2022-11-23T00:43:45.825117Z"
        },
        "id": "c2b85331",
        "outputId": "d4d0154f-2b4c-4b4b-f2ae-77b161e8046a"
      },
      "outputs": [
        {
          "data": {
            "image/png": "[encoded data removed]",
            "text/plain": [
              "<Figure size 720x432 with 1 Axes>"
            ]
          },
          "metadata": {},
          "output_type": "display_data"
        }
      ],
      "source": [
        "plt. figure(figsize=(10, 6))\n",
        "\n",
        "group_names = ['Unknown', 'Baby', 'Child', 'Teenager', 'Student', 'Young Adult', 'Adult', 'Elderly']\n",
        "data['Age_cat'] = data['Age'].apply(lambda x : get_category(x))\n",
        "sns.barplot(x='Age_cat', y='Transported', hue='CryoSleep', data=data, order=group_names)\n",
        "data.drop('Age_cat', axis=1, inplace=True)"
      ]
    },
    {
      "cell_type": "code",
      "execution_count": null,
      "id": "d833c4f3",
      "metadata": {
        "ExecuteTime": {
          "end_time": "2022-11-23T00:45:45.310522Z",
          "start_time": "2022-11-23T00:45:44.936513Z"
        },
        "id": "d833c4f3",
        "outputId": "92e0f86e-136d-4795-9aab-05c943690bdb"
      },
      "outputs": [
        {
          "data": {
            "image/png": "[encoded data removed]",
            "text/plain": [
              "<Figure size 720x432 with 1 Axes>"
            ]
          },
          "metadata": {},
          "output_type": "display_data"
        }
      ],
      "source": [
        "plt. figure(figsize=(10, 6))\n",
        "\n",
        "sns.barplot(x='Cabin1', y='VIP', data=data)\n",
        "plt.show()"
      ]
    },
    {
      "cell_type": "code",
      "execution_count": null,
      "id": "c0e4e800",
      "metadata": {
        "ExecuteTime": {
          "end_time": "2022-11-23T00:46:11.931676Z",
          "start_time": "2022-11-23T00:46:11.735202Z"
        },
        "id": "c0e4e800",
        "outputId": "0888eeb7-1b9d-4696-9e98-0b7b801924d7"
      },
      "outputs": [
        {
          "data": {
            "image/png": "[encoded data removed]",
            "text/plain": [
              "<Figure size 720x432 with 1 Axes>"
            ]
          },
          "metadata": {},
          "output_type": "display_data"
        }
      ],
      "source": [
        "plt. figure(figsize=(10, 6))\n",
        "\n",
        "sns.barplot(x='VIP', y='Transported', data=data)\n",
        "plt.show()"
      ]
    },
    {
      "cell_type": "code",
      "execution_count": null,
      "id": "2856cc3b",
      "metadata": {
        "ExecuteTime": {
          "end_time": "2022-11-23T00:46:53.725249Z",
          "start_time": "2022-11-23T00:46:53.159762Z"
        },
        "id": "2856cc3b",
        "outputId": "bc5e8c64-b352-4d38-cab3-ea986b98c7ff"
      },
      "outputs": [
        {
          "data": {
            "image/png": "[encoded data removed]",
            "text/plain": [
              "<Figure size 720x432 with 1 Axes>"
            ]
          },
          "metadata": {},
          "output_type": "display_data"
        }
      ],
      "source": [
        "plt. figure(figsize=(10, 6))\n",
        "\n",
        "sns.barplot(x='Cabin1', y='Transported', hue='VIP', data=data)\n",
        "plt.show()"
      ]
    },
    {
      "cell_type": "code",
      "execution_count": null,
      "id": "9000c4b0",
      "metadata": {
        "ExecuteTime": {
          "end_time": "2022-11-23T00:51:37.734263Z",
          "start_time": "2022-11-23T00:51:37.535794Z"
        },
        "id": "9000c4b0",
        "outputId": "296423a3-fa5a-4e70-b94a-94f075366c72"
      },
      "outputs": [
        {
          "data": {
            "image/png": "[encoded data removed]",
            "text/plain": [
              "<Figure size 720x432 with 1 Axes>"
            ]
          },
          "metadata": {},
          "output_type": "display_data"
        }
      ],
      "source": [
        "plt. figure(figsize=(10, 6))\n",
        "\n",
        "sns.barplot(x='Cabin3', y='Transported', data=data)\n",
        "plt.show()"
      ]
    },
    {
      "cell_type": "code",
      "execution_count": null,
      "id": "b29ef3a9",
      "metadata": {
        "ExecuteTime": {
          "end_time": "2022-11-23T00:51:56.742409Z",
          "start_time": "2022-11-23T00:51:56.735428Z"
        },
        "id": "b29ef3a9",
        "outputId": "038f67ab-6055-4f03-ff34-0f1423cb8868"
      },
      "outputs": [
        {
          "data": {
            "text/plain": [
              "True     4333\n",
              "False    4257\n",
              "Name: Transported, dtype: int64"
            ]
          },
          "execution_count": 20,
          "metadata": {},
          "output_type": "execute_result"
        }
      ],
      "source": [
        "data.Transported.value_counts()"
      ]
    }
  ],
  "metadata": {
    "kernelspec": {
      "display_name": "Python 3 (ipykernel)",
      "language": "python",
      "name": "python3"
    },
    "language_info": {
      "codemirror_mode": {
        "name": "ipython",
        "version": 3
      },
      "file_extension": ".py",
      "mimetype": "text/x-python",
      "name": "python",
      "nbconvert_exporter": "python",
      "pygments_lexer": "ipython3",
      "version": "3.9.7"
    },
    "toc": {
      "base_numbering": 1,
      "nav_menu": {},
      "number_sections": true,
      "sideBar": true,
      "skip_h1_title": false,
      "title_cell": "Table of Contents",
      "title_sidebar": "Contents",
      "toc_cell": false,
      "toc_position": {},
      "toc_section_display": true,
      "toc_window_display": true
    },
    "colab": {
      "provenance": [],
      "include_colab_link": true
    }
  },
  "nbformat": 4,
  "nbformat_minor": 5
}